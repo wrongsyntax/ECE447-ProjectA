{
 "cells": [
  {
   "metadata": {},
   "cell_type": "markdown",
   "source": [
    "# Time Series Forcasting with Feature Engineering\n",
    "\n",
    "## Objective\n",
    "\n",
    "Time series forecasting is a critical task in a variety of domains, ranging from finance to power\n",
    "management. While traditional statistical methods have been used, recent developments in\n",
    "machine learning and feature engineering have led to a significant improvement in forecasts.\n",
    "\n",
    "This project aims to build an end-to-end time series forecasting pipeline,\n",
    "illustrating how careful feature engineering can greatly improve the predictive capability over a\n",
    "range of modeling approaches.\n",
    "\n",
    "## Dataset\n",
    "\n",
    "The dataset that we have chosen to use in this project is the [Historical Weather Data](https://www.kaggle.com/datasets/sudalairajkumar/daily-temperature-of-major-cities) dataset from Kaggle.\n",
    "This dataset contains daily temperature data for major cities around the world, including the date and the average temperature for each day."
   ],
   "id": "923eae2e8782ed81"
  },
  {
   "metadata": {},
   "cell_type": "markdown",
   "source": "# Installing and Importing Required Libraries",
   "id": "a0037884333e353b"
  },
  {
   "metadata": {},
   "cell_type": "code",
   "source": "!pip install -r requirements.txt",
   "id": "55c9ab7f9f40f55e",
   "outputs": [],
   "execution_count": null
  },
  {
   "metadata": {},
   "cell_type": "markdown",
   "source": "# Loading the dataset",
   "id": "845d5fb9974e7426"
  },
  {
   "metadata": {
    "ExecuteTime": {
     "end_time": "2025-04-20T05:45:24.113459Z",
     "start_time": "2025-04-20T05:45:23.220233Z"
    }
   },
   "cell_type": "code",
   "source": [
    "import matplotlib.pyplot as plt\n",
    "import numpy as np\n",
    "import pandas as pd\n",
    "import seaborn as sns\n",
    "\n",
    "df = pd.read_csv(\"data/city_temperature.csv\", low_memory=False)"
   ],
   "id": "80f7b582f9ac931f",
   "outputs": [],
   "execution_count": 47
  },
  {
   "metadata": {},
   "cell_type": "markdown",
   "source": "# Data Exploration",
   "id": "76cdcf5f1775b8b4"
  },
  {
   "metadata": {},
   "cell_type": "code",
   "source": [
    "# View the first rows to get an idea of the data\n",
    "df.head()"
   ],
   "id": "1640ae6d6e4657f5",
   "outputs": [],
   "execution_count": null
  },
  {
   "metadata": {},
   "cell_type": "markdown",
   "source": [
    "## Understanding the data charecteristics\n",
    "\n",
    "This is \"getting to know the data\" and involves analyzing the types of features, their ranges, as well as the distribution of their values."
   ],
   "id": "4ead8cd4249baf06"
  },
  {
   "metadata": {},
   "cell_type": "code",
   "source": [
    "# Feature types\n",
    "print(\"Feature types:\")\n",
    "df.dtypes"
   ],
   "id": "7fd0a452ab37c4f0",
   "outputs": [],
   "execution_count": null
  },
  {
   "metadata": {},
   "cell_type": "code",
   "source": [
    "# Range of features\n",
    "print(\"Range of features:\")\n",
    "df.describe().apply(lambda x: x.apply(lambda y: f\"{y:.2f}\"))"
   ],
   "id": "8bde39b30f2df15d",
   "outputs": [],
   "execution_count": null
  },
  {
   "metadata": {},
   "cell_type": "markdown",
   "source": [
    "From the range of features, we observe the following key points:\n",
    "\n",
    "- The minimum value in the `Year` column is 200.\n",
    "- The minimum value in the `AvgTemperature` column is -99.\n",
    "\n",
    "We will check the values near these minimums to get an idea of what they may represent."
   ],
   "id": "3b5acf4635c5c904"
  },
  {
   "metadata": {},
   "cell_type": "code",
   "source": [
    "# Check the 5 lowest unique values in the Year and AvgTemperature columns\n",
    "unique_years = df[\"Year\"].unique()\n",
    "unique_years.sort()\n",
    "unique_temps = df[\"AvgTemperature\"].unique()\n",
    "unique_temps.sort()\n",
    "\n",
    "print(\"Lowest Year and AvgTemperature values:\")\n",
    "pd.DataFrame({\n",
    "    \"Year\": unique_years[:5],\n",
    "    \"AvgTemperature\": unique_temps[:5]\n",
    "})"
   ],
   "id": "35329e96feb46ccf",
   "outputs": [],
   "execution_count": null
  },
  {
   "metadata": {},
   "cell_type": "markdown",
   "source": [
    "The `Year` column has two values abnormal values: 200 and 201. These are likely data entry errors.\n",
    "The `AvgTemperature` column has a value of -99, which is likely a placeholder for missing data since it is far from the other lowest values."
   ],
   "id": "c326415bddb2619a"
  },
  {
   "metadata": {},
   "cell_type": "markdown",
   "source": [
    "# Data Processing\n",
    "\n",
    "This involves handling the following:\n",
    "\n",
    "- Missing value imputation\n",
    "- Outlier detection and treatment\n",
    "- Resampling to different time frequencies (hourly, daily, weekly)\n",
    "- Normalization/standardization of features"
   ],
   "id": "b40ac19ee5f7ba9d"
  },
  {
   "metadata": {},
   "cell_type": "markdown",
   "source": "### Missing value imputation",
   "id": "ad025ea6a48d8bb"
  },
  {
   "metadata": {},
   "cell_type": "code",
   "source": [
    "missing_temp_values = df.isnull().sum()\n",
    "print(\"Missing values in each column:\")\n",
    "missing_temp_values"
   ],
   "id": "8e852332c525e690",
   "outputs": [],
   "execution_count": null
  },
  {
   "metadata": {},
   "cell_type": "markdown",
   "source": [
    "The results of the missing value check show that there are no missing values in the dataset, except for the `State` column. This column is not important for the scope of this project, nor is it easy to impute values for this column without referencing a large, separate dataset that maps cities to the state/province they are in.\n",
    "\n",
    "However, in this dataset there are actually missing `AvgTemperature` values. They are denoted by a value of `-99` in the row that doesn't have a temperature reading."
   ],
   "id": "80f3564ae7293f2e"
  },
  {
   "metadata": {},
   "cell_type": "code",
   "source": [
    "missing_temp_values = df[df[\"AvgTemperature\"] == -99]\n",
    "missing_year_values = df[df[\"Year\"] < 1900]\n",
    "print(f\"Missing values in AvgTemperature column: {len(missing_temp_values)}\")\n",
    "print(f\"Missing values in Year column: {len(missing_year_values)}\")"
   ],
   "id": "5c1b0f9ade3b77e2",
   "outputs": [],
   "execution_count": null
  },
  {
   "metadata": {},
   "cell_type": "markdown",
   "source": "These missing values will need to be imputed. We can determine if the missing data is correlated more to any specific location or time period:",
   "id": "e9e66a4cb03e32ed"
  },
  {
   "metadata": {},
   "cell_type": "code",
   "source": [
    "# Plot of the missing values in each region, along with the total number of values in each region\n",
    "plt.figure(figsize=(15, 6))\n",
    "sns.countplot(x=\"Region\", data=missing_temp_values)\n",
    "plt.title(\"Missing Values in AvgTemperature by Region\")\n",
    "plt.xlabel(\"Region\")\n",
    "plt.ylabel(\"Count\")\n",
    "plt.xticks(rotation=45)\n",
    "plt.show()"
   ],
   "id": "ba57fe013a2c6a4f",
   "outputs": [],
   "execution_count": null
  },
  {
   "metadata": {},
   "cell_type": "code",
   "source": [
    "# Plot of the missing values by year\n",
    "plt.figure(figsize=(15, 6))\n",
    "sns.countplot(x=\"Year\", data=missing_temp_values)\n",
    "plt.title(\"Missing Values in AvgTemperature by Year\")\n",
    "plt.xlabel(\"Year\")\n",
    "plt.ylabel(\"Count\")\n",
    "plt.xticks(rotation=45)\n",
    "plt.show()"
   ],
   "id": "51e553f1c5ba73a7",
   "outputs": [],
   "execution_count": null
  },
  {
   "metadata": {},
   "cell_type": "code",
   "source": [
    "# Missing values as a proportion of all values\n",
    "missing_values_proportion = len(missing_temp_values) / len(df)\n",
    "print(f\"Proportion of missing values in AvgTemperature: {missing_values_proportion:.2%}\")"
   ],
   "id": "b4823609ca9b567f",
   "outputs": [],
   "execution_count": null
  },
  {
   "metadata": {},
   "cell_type": "code",
   "source": [
    "# By region\n",
    "print(\"Percentage of missing values by region:\")\n",
    "missing_values_by_region = missing_temp_values.groupby(\"Region\").size()\n",
    "missing_values_by_region_proportion = missing_values_by_region / df.groupby(\"Region\").size()\n",
    "missing_values_by_region_proportion = missing_values_by_region_proportion.sort_values(ascending=False)\n",
    "missing_values_by_region_proportion = missing_values_by_region_proportion.apply(lambda x: f\"{x:.2%}\")\n",
    "missing_values_by_region_proportion.name = \"Percentage of Missing Values\"\n",
    "missing_values_by_region_proportion"
   ],
   "id": "6344c6991f45c994",
   "outputs": [],
   "execution_count": null
  },
  {
   "metadata": {},
   "cell_type": "code",
   "source": [
    "# By year\n",
    "print(\"Proportion of missing values by year:\")\n",
    "missing_values_by_year = missing_temp_values.groupby(\"Year\").size()\n",
    "missing_values_by_year_proportion = missing_values_by_year / df.groupby(\"Year\").size()\n",
    "missing_values_by_year_proportion = missing_values_by_year_proportion.sort_values(ascending=False)\n",
    "missing_values_by_year_proportion = missing_values_by_year_proportion.apply(lambda x: f\"{x:.2%}\")\n",
    "missing_values_by_year_proportion.name = \"Proportion of Missing Values\"\n",
    "missing_values_by_year_proportion"
   ],
   "id": "b36432e7d3360cee",
   "outputs": [],
   "execution_count": null
  },
  {
   "metadata": {},
   "cell_type": "markdown",
   "source": [
    "The main source of missing values is the Africa region, which has approximately 12% of its values missing.\n",
    "Additionally, we can observe that as time passed, the number of missing values decreased.\n",
    "This is likely due to improvements in data collection methods over time, as well as the proliferation of technology across the globe.\n",
    "\n",
    "To fill in the missing values, we will apply time series forcasting.\n",
    "For the missing year values, we will simply delete them since they are missing 100% of the data anyway."
   ],
   "id": "e81af56470bdc379"
  },
  {
   "metadata": {
    "ExecuteTime": {
     "end_time": "2025-04-20T05:45:30.831044Z",
     "start_time": "2025-04-20T05:45:30.710923Z"
    }
   },
   "cell_type": "code",
   "source": [
    "# Delete the invalid years\n",
    "df = df[df[\"Year\"] >= 1900]"
   ],
   "id": "3942023dc3ca7958",
   "outputs": [],
   "execution_count": 48
  },
  {
   "metadata": {},
   "cell_type": "markdown",
   "source": [
    "### Datetime conversion\n",
    "\n",
    "Now that the invalid years have been removed from the data, we can a separate `Date` column to simplify date handling.\n",
    "In the original dataset, the date is split into three separate columns, one for month, day, and year each. For simplicity in date processing and feature engineering, we will combine these three columns into a single datetime column."
   ],
   "id": "59ef7cec63073bc3"
  },
  {
   "metadata": {
    "ExecuteTime": {
     "end_time": "2025-04-20T05:45:32.084329Z",
     "start_time": "2025-04-20T05:45:31.598039Z"
    }
   },
   "cell_type": "code",
   "source": [
    "df['Month'] = df['Month'].clip(lower=1, upper=12)\n",
    "df['Day'] = df['Day'].clip(lower=1, upper=31)\n",
    "\n",
    "df['Date'] = pd.to_datetime(df[['Year', 'Month', 'Day']])\n",
    "\n",
    "# Keep the Year column to simply future code\n",
    "df.drop(columns=[\"Month\", \"Day\"], inplace=True)\n",
    "\n",
    "df.head()"
   ],
   "id": "b90482bbaf4ed53d",
   "outputs": [
    {
     "data": {
      "text/plain": [
       "   Region  Country State     City  Year  AvgTemperature       Date\n",
       "0  Africa  Algeria   NaN  Algiers  1995            64.2 1995-01-01\n",
       "1  Africa  Algeria   NaN  Algiers  1995            49.4 1995-01-02\n",
       "2  Africa  Algeria   NaN  Algiers  1995            48.8 1995-01-03\n",
       "3  Africa  Algeria   NaN  Algiers  1995            46.4 1995-01-04\n",
       "4  Africa  Algeria   NaN  Algiers  1995            47.9 1995-01-05"
      ],
      "text/html": [
       "<div>\n",
       "<style scoped>\n",
       "    .dataframe tbody tr th:only-of-type {\n",
       "        vertical-align: middle;\n",
       "    }\n",
       "\n",
       "    .dataframe tbody tr th {\n",
       "        vertical-align: top;\n",
       "    }\n",
       "\n",
       "    .dataframe thead th {\n",
       "        text-align: right;\n",
       "    }\n",
       "</style>\n",
       "<table border=\"1\" class=\"dataframe\">\n",
       "  <thead>\n",
       "    <tr style=\"text-align: right;\">\n",
       "      <th></th>\n",
       "      <th>Region</th>\n",
       "      <th>Country</th>\n",
       "      <th>State</th>\n",
       "      <th>City</th>\n",
       "      <th>Year</th>\n",
       "      <th>AvgTemperature</th>\n",
       "      <th>Date</th>\n",
       "    </tr>\n",
       "  </thead>\n",
       "  <tbody>\n",
       "    <tr>\n",
       "      <th>0</th>\n",
       "      <td>Africa</td>\n",
       "      <td>Algeria</td>\n",
       "      <td>NaN</td>\n",
       "      <td>Algiers</td>\n",
       "      <td>1995</td>\n",
       "      <td>64.2</td>\n",
       "      <td>1995-01-01</td>\n",
       "    </tr>\n",
       "    <tr>\n",
       "      <th>1</th>\n",
       "      <td>Africa</td>\n",
       "      <td>Algeria</td>\n",
       "      <td>NaN</td>\n",
       "      <td>Algiers</td>\n",
       "      <td>1995</td>\n",
       "      <td>49.4</td>\n",
       "      <td>1995-01-02</td>\n",
       "    </tr>\n",
       "    <tr>\n",
       "      <th>2</th>\n",
       "      <td>Africa</td>\n",
       "      <td>Algeria</td>\n",
       "      <td>NaN</td>\n",
       "      <td>Algiers</td>\n",
       "      <td>1995</td>\n",
       "      <td>48.8</td>\n",
       "      <td>1995-01-03</td>\n",
       "    </tr>\n",
       "    <tr>\n",
       "      <th>3</th>\n",
       "      <td>Africa</td>\n",
       "      <td>Algeria</td>\n",
       "      <td>NaN</td>\n",
       "      <td>Algiers</td>\n",
       "      <td>1995</td>\n",
       "      <td>46.4</td>\n",
       "      <td>1995-01-04</td>\n",
       "    </tr>\n",
       "    <tr>\n",
       "      <th>4</th>\n",
       "      <td>Africa</td>\n",
       "      <td>Algeria</td>\n",
       "      <td>NaN</td>\n",
       "      <td>Algiers</td>\n",
       "      <td>1995</td>\n",
       "      <td>47.9</td>\n",
       "      <td>1995-01-05</td>\n",
       "    </tr>\n",
       "  </tbody>\n",
       "</table>\n",
       "</div>"
      ]
     },
     "execution_count": 49,
     "metadata": {},
     "output_type": "execute_result"
    }
   ],
   "execution_count": 49
  },
  {
   "metadata": {},
   "cell_type": "markdown",
   "source": "### Data imputation",
   "id": "20815c0e27bc82ec"
  },
  {
   "metadata": {
    "ExecuteTime": {
     "end_time": "2025-04-20T05:45:34.179505Z",
     "start_time": "2025-04-20T05:45:34.173379Z"
    }
   },
   "cell_type": "code",
   "source": [
    "from tqdm.notebook import tqdm\n",
    "\n",
    "\n",
    "def simple_time_series_imputation(df, target_column='AvgTemperature', missing_value_indicator=-99):\n",
    "    \"\"\"\n",
    "    Fill missing values using simple time series methods\n",
    "    \"\"\"\n",
    "\n",
    "    # Create a copy of the dataframe\n",
    "    df_copy = df.copy()\n",
    "\n",
    "    # Replace missing value indicator with NaN if specified\n",
    "    if missing_value_indicator is not None:\n",
    "        df_copy[target_column] = df_copy[target_column].replace(missing_value_indicator, np.nan)\n",
    "\n",
    "    # Count missing values before imputation\n",
    "    missing_before = df_copy[target_column].isna().sum()\n",
    "\n",
    "    if missing_before == 0:\n",
    "        print(\"No missing values to impute.\")\n",
    "        return df_copy\n",
    "\n",
    "    print(f\"Missing values before imputation: {missing_before}\")\n",
    "\n",
    "    # Ensure date column is datetime type\n",
    "    if not pd.api.types.is_datetime64_any_dtype(df_copy[\"Date\"]):\n",
    "        df_copy[\"Date\"] = pd.to_datetime(df_copy[\"Date\"])\n",
    "\n",
    "    print(f\"Processing each city separately\")\n",
    "    locations = df_copy[\"City\"].unique()\n",
    "\n",
    "    # Process each location\n",
    "    imputed_dfs = []\n",
    "    for location in tqdm(locations, desc=f\"Processing Cities\"):\n",
    "        # Get data for this location\n",
    "        location_data = df_copy[df_copy[\"City\"] == location].copy()\n",
    "\n",
    "        # Skip if no missing values\n",
    "        if not location_data[target_column].isna().any():\n",
    "            imputed_dfs.append(location_data)\n",
    "            continue\n",
    "\n",
    "        # Sort by date\n",
    "        location_data = location_data.sort_values(by=\"Date\")\n",
    "\n",
    "        # Apply simple imputation methods\n",
    "        # 1. Linear interpolation (for small gaps)\n",
    "        location_data[target_column] = location_data[target_column].interpolate(method='linear')\n",
    "\n",
    "        # 2. Forward fill then backward fill (for any remaining gaps)\n",
    "        location_data[target_column] = location_data[target_column].ffill().bfill()\n",
    "\n",
    "        imputed_dfs.append(location_data)\n",
    "\n",
    "        # Combine all locations\n",
    "        df_imputed = pd.concat(imputed_dfs)\n",
    "\n",
    "    # Count missing values after imputation\n",
    "    missing_after = df_imputed[target_column].isna().sum()\n",
    "    print(f\"Missing values after imputation: {missing_after}\")\n",
    "    print(f\"Values filled: {missing_before - missing_after}\")\n",
    "\n",
    "    # If missing_value_indicator was provided, replace NaN back to the indicator for any remaining missing values\n",
    "    if missing_value_indicator is not None and missing_after > 0:\n",
    "        df_imputed[target_column] = df_imputed[target_column].fillna(missing_value_indicator)\n",
    "\n",
    "    return df_imputed"
   ],
   "id": "d52727008b071246",
   "outputs": [],
   "execution_count": 50
  },
  {
   "metadata": {
    "ExecuteTime": {
     "end_time": "2025-04-20T05:46:10.510220Z",
     "start_time": "2025-04-20T05:45:38.317225Z"
    }
   },
   "cell_type": "code",
   "source": [
    "# Apply the seasonal mean imputation function to the dataframe\n",
    "df = simple_time_series_imputation(df, target_column='AvgTemperature', missing_value_indicator=-99)"
   ],
   "id": "c8fbc23fa25dea92",
   "outputs": [
    {
     "name": "stdout",
     "output_type": "stream",
     "text": [
      "Missing values before imputation: 79232\n",
      "Processing each city separately\n"
     ]
    },
    {
     "data": {
      "text/plain": [
       "Processing Cities:   0%|          | 0/321 [00:00<?, ?it/s]"
      ],
      "application/vnd.jupyter.widget-view+json": {
       "version_major": 2,
       "version_minor": 0,
       "model_id": "88d26d08ab1b47188991b68d7a8d3d83"
      }
     },
     "metadata": {},
     "output_type": "display_data"
    },
    {
     "name": "stdout",
     "output_type": "stream",
     "text": [
      "Missing values after imputation: 0\n",
      "Values filled: 79232\n"
     ]
    }
   ],
   "execution_count": 51
  },
  {
   "metadata": {
    "ExecuteTime": {
     "end_time": "2025-04-20T05:46:10.527588Z",
     "start_time": "2025-04-20T05:46:10.522504Z"
    }
   },
   "cell_type": "code",
   "source": [
    "missing_values = df[df[\"AvgTemperature\"] == -99]\n",
    "\n",
    "# Check if there are any missing values left\n",
    "if len(missing_values) == 0:\n",
    "    print(\"No missing values left in AvgTemperature column.\")\n",
    "else:\n",
    "    print(f\"Missing values left in AvgTemperature column: {len(missing_values)}\")"
   ],
   "id": "ce9e6debce28b8b1",
   "outputs": [
    {
     "name": "stdout",
     "output_type": "stream",
     "text": [
      "No missing values left in AvgTemperature column.\n"
     ]
    }
   ],
   "execution_count": 52
  },
  {
   "metadata": {},
   "cell_type": "markdown",
   "source": [
    "### Unit conversion\n",
    "\n",
    "In the dataset, the temperature is in Fahrenheit, but we will convert it to Celsius for better interpretability. This is because Canada uses the metric system and Celsius is the standard unit of temperature in Canada."
   ],
   "id": "239683367584243e"
  },
  {
   "metadata": {
    "ExecuteTime": {
     "end_time": "2025-04-20T05:46:18.309105Z",
     "start_time": "2025-04-20T05:46:18.290387Z"
    }
   },
   "cell_type": "code",
   "source": [
    "def fahrenheit_to_celsius(fahrenheit):\n",
    "    return (fahrenheit - 32) * 5.0/9.0\n",
    "\n",
    "# Convert the temperature to Celsius\n",
    "df[\"AvgTemperature\"] = fahrenheit_to_celsius(df[\"AvgTemperature\"])\n",
    "\n",
    "df.head()"
   ],
   "id": "7f8e713248e996f7",
   "outputs": [
    {
     "data": {
      "text/plain": [
       "   Region  Country State     City  Year  AvgTemperature       Date\n",
       "0  Africa  Algeria   NaN  Algiers  1995       17.888889 1995-01-01\n",
       "1  Africa  Algeria   NaN  Algiers  1995        9.666667 1995-01-02\n",
       "2  Africa  Algeria   NaN  Algiers  1995        9.333333 1995-01-03\n",
       "3  Africa  Algeria   NaN  Algiers  1995        8.000000 1995-01-04\n",
       "4  Africa  Algeria   NaN  Algiers  1995        8.833333 1995-01-05"
      ],
      "text/html": [
       "<div>\n",
       "<style scoped>\n",
       "    .dataframe tbody tr th:only-of-type {\n",
       "        vertical-align: middle;\n",
       "    }\n",
       "\n",
       "    .dataframe tbody tr th {\n",
       "        vertical-align: top;\n",
       "    }\n",
       "\n",
       "    .dataframe thead th {\n",
       "        text-align: right;\n",
       "    }\n",
       "</style>\n",
       "<table border=\"1\" class=\"dataframe\">\n",
       "  <thead>\n",
       "    <tr style=\"text-align: right;\">\n",
       "      <th></th>\n",
       "      <th>Region</th>\n",
       "      <th>Country</th>\n",
       "      <th>State</th>\n",
       "      <th>City</th>\n",
       "      <th>Year</th>\n",
       "      <th>AvgTemperature</th>\n",
       "      <th>Date</th>\n",
       "    </tr>\n",
       "  </thead>\n",
       "  <tbody>\n",
       "    <tr>\n",
       "      <th>0</th>\n",
       "      <td>Africa</td>\n",
       "      <td>Algeria</td>\n",
       "      <td>NaN</td>\n",
       "      <td>Algiers</td>\n",
       "      <td>1995</td>\n",
       "      <td>17.888889</td>\n",
       "      <td>1995-01-01</td>\n",
       "    </tr>\n",
       "    <tr>\n",
       "      <th>1</th>\n",
       "      <td>Africa</td>\n",
       "      <td>Algeria</td>\n",
       "      <td>NaN</td>\n",
       "      <td>Algiers</td>\n",
       "      <td>1995</td>\n",
       "      <td>9.666667</td>\n",
       "      <td>1995-01-02</td>\n",
       "    </tr>\n",
       "    <tr>\n",
       "      <th>2</th>\n",
       "      <td>Africa</td>\n",
       "      <td>Algeria</td>\n",
       "      <td>NaN</td>\n",
       "      <td>Algiers</td>\n",
       "      <td>1995</td>\n",
       "      <td>9.333333</td>\n",
       "      <td>1995-01-03</td>\n",
       "    </tr>\n",
       "    <tr>\n",
       "      <th>3</th>\n",
       "      <td>Africa</td>\n",
       "      <td>Algeria</td>\n",
       "      <td>NaN</td>\n",
       "      <td>Algiers</td>\n",
       "      <td>1995</td>\n",
       "      <td>8.000000</td>\n",
       "      <td>1995-01-04</td>\n",
       "    </tr>\n",
       "    <tr>\n",
       "      <th>4</th>\n",
       "      <td>Africa</td>\n",
       "      <td>Algeria</td>\n",
       "      <td>NaN</td>\n",
       "      <td>Algiers</td>\n",
       "      <td>1995</td>\n",
       "      <td>8.833333</td>\n",
       "      <td>1995-01-05</td>\n",
       "    </tr>\n",
       "  </tbody>\n",
       "</table>\n",
       "</div>"
      ]
     },
     "execution_count": 53,
     "metadata": {},
     "output_type": "execute_result"
    }
   ],
   "execution_count": 53
  },
  {
   "metadata": {},
   "cell_type": "markdown",
   "source": "### Outlier detection and treatment",
   "id": "c23224d2e9db454d"
  },
  {
   "metadata": {},
   "cell_type": "code",
   "source": "# TODO",
   "id": "206ad13bb207c33a",
   "outputs": [],
   "execution_count": null
  },
  {
   "metadata": {},
   "cell_type": "markdown",
   "source": [
    "### Normalization/standardization of features\n",
    "\n",
    "In order to improve the performance of the model, we will normalize the temperature to the range [-1, 1]."
   ],
   "id": "d22347b9d5b395a9"
  },
  {
   "metadata": {
    "ExecuteTime": {
     "end_time": "2025-04-20T05:46:33.417909Z",
     "start_time": "2025-04-20T05:46:33.394556Z"
    }
   },
   "cell_type": "code",
   "source": [
    "# Normalize the temperature\n",
    "from sklearn.preprocessing import MinMaxScaler\n",
    "\n",
    "scaler = MinMaxScaler(feature_range=(-1, 1))\n",
    "df[\"AvgTemperature\"] = scaler.fit_transform(df[[\"AvgTemperature\"]])\n",
    "df.head()"
   ],
   "id": "74bc6ba86d250682",
   "outputs": [
    {
     "data": {
      "text/plain": [
       "   Region  Country State     City  Year  AvgTemperature       Date\n",
       "0  Africa  Algeria   NaN  Algiers  1995         0.42750 1995-01-01\n",
       "1  Africa  Algeria   NaN  Algiers  1995         0.24250 1995-01-02\n",
       "2  Africa  Algeria   NaN  Algiers  1995         0.23500 1995-01-03\n",
       "3  Africa  Algeria   NaN  Algiers  1995         0.20500 1995-01-04\n",
       "4  Africa  Algeria   NaN  Algiers  1995         0.22375 1995-01-05"
      ],
      "text/html": [
       "<div>\n",
       "<style scoped>\n",
       "    .dataframe tbody tr th:only-of-type {\n",
       "        vertical-align: middle;\n",
       "    }\n",
       "\n",
       "    .dataframe tbody tr th {\n",
       "        vertical-align: top;\n",
       "    }\n",
       "\n",
       "    .dataframe thead th {\n",
       "        text-align: right;\n",
       "    }\n",
       "</style>\n",
       "<table border=\"1\" class=\"dataframe\">\n",
       "  <thead>\n",
       "    <tr style=\"text-align: right;\">\n",
       "      <th></th>\n",
       "      <th>Region</th>\n",
       "      <th>Country</th>\n",
       "      <th>State</th>\n",
       "      <th>City</th>\n",
       "      <th>Year</th>\n",
       "      <th>AvgTemperature</th>\n",
       "      <th>Date</th>\n",
       "    </tr>\n",
       "  </thead>\n",
       "  <tbody>\n",
       "    <tr>\n",
       "      <th>0</th>\n",
       "      <td>Africa</td>\n",
       "      <td>Algeria</td>\n",
       "      <td>NaN</td>\n",
       "      <td>Algiers</td>\n",
       "      <td>1995</td>\n",
       "      <td>0.42750</td>\n",
       "      <td>1995-01-01</td>\n",
       "    </tr>\n",
       "    <tr>\n",
       "      <th>1</th>\n",
       "      <td>Africa</td>\n",
       "      <td>Algeria</td>\n",
       "      <td>NaN</td>\n",
       "      <td>Algiers</td>\n",
       "      <td>1995</td>\n",
       "      <td>0.24250</td>\n",
       "      <td>1995-01-02</td>\n",
       "    </tr>\n",
       "    <tr>\n",
       "      <th>2</th>\n",
       "      <td>Africa</td>\n",
       "      <td>Algeria</td>\n",
       "      <td>NaN</td>\n",
       "      <td>Algiers</td>\n",
       "      <td>1995</td>\n",
       "      <td>0.23500</td>\n",
       "      <td>1995-01-03</td>\n",
       "    </tr>\n",
       "    <tr>\n",
       "      <th>3</th>\n",
       "      <td>Africa</td>\n",
       "      <td>Algeria</td>\n",
       "      <td>NaN</td>\n",
       "      <td>Algiers</td>\n",
       "      <td>1995</td>\n",
       "      <td>0.20500</td>\n",
       "      <td>1995-01-04</td>\n",
       "    </tr>\n",
       "    <tr>\n",
       "      <th>4</th>\n",
       "      <td>Africa</td>\n",
       "      <td>Algeria</td>\n",
       "      <td>NaN</td>\n",
       "      <td>Algiers</td>\n",
       "      <td>1995</td>\n",
       "      <td>0.22375</td>\n",
       "      <td>1995-01-05</td>\n",
       "    </tr>\n",
       "  </tbody>\n",
       "</table>\n",
       "</div>"
      ]
     },
     "execution_count": 54,
     "metadata": {},
     "output_type": "execute_result"
    }
   ],
   "execution_count": 54
  },
  {
   "metadata": {},
   "cell_type": "markdown",
   "source": "# Feature Engineering",
   "id": "b78a3b0597f66086"
  }
 ],
 "metadata": {
  "kernelspec": {
   "display_name": "Python 3",
   "language": "python",
   "name": "python3"
  },
  "language_info": {
   "codemirror_mode": {
    "name": "ipython",
    "version": 2
   },
   "file_extension": ".py",
   "mimetype": "text/x-python",
   "name": "python",
   "nbconvert_exporter": "python",
   "pygments_lexer": "ipython2",
   "version": "2.7.6"
  }
 },
 "nbformat": 4,
 "nbformat_minor": 5
}

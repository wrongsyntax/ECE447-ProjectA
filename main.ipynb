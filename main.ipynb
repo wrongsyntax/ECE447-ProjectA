{
 "cells": [
  {
   "metadata": {},
   "cell_type": "markdown",
   "source": [
    "# Time Series Forcasting with Feature Engineering\n",
    "\n",
    "## Objective\n",
    "\n",
    "Time series forecasting is a critical task in a variety of domains, ranging from finance to power\n",
    "management. While traditional statistical methods have been used, recent developments in\n",
    "machine learning and feature engineering have led to a significant improvement in forecasts.\n",
    "\n",
    "This project aims to build an end-to-end time series forecasting pipeline,\n",
    "illustrating how careful feature engineering can greatly improve the predictive capability over a\n",
    "range of modeling approaches.\n",
    "\n",
    "## Dataset\n",
    "\n",
    "The dataset that we have chosen to use in this project is the [Historical Weather Data](https://www.kaggle.com/datasets/sudalairajkumar/daily-temperature-of-major-cities) dataset from Kaggle.\n",
    "This dataset contains daily temperature data for major cities around the world, including the date and the average temperature for each day."
   ],
   "id": "923eae2e8782ed81"
  },
  {
   "metadata": {},
   "cell_type": "markdown",
   "source": "",
   "id": "845d5fb9974e7426"
  },
  {
   "cell_type": "code",
   "execution_count": null,
   "id": "initial_id",
   "metadata": {
    "collapsed": true
   },
   "outputs": [],
   "source": [
    ""
   ]
  }
 ],
 "metadata": {
  "kernelspec": {
   "display_name": "Python 3",
   "language": "python",
   "name": "python3"
  },
  "language_info": {
   "codemirror_mode": {
    "name": "ipython",
    "version": 2
   },
   "file_extension": ".py",
   "mimetype": "text/x-python",
   "name": "python",
   "nbconvert_exporter": "python",
   "pygments_lexer": "ipython2",
   "version": "2.7.6"
  }
 },
 "nbformat": 4,
 "nbformat_minor": 5
}

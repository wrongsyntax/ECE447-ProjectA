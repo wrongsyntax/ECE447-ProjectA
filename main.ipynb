{
 "cells": [
  {
   "metadata": {},
   "cell_type": "markdown",
   "source": [
    "# Time Series Forcasting with Feature Engineering\n",
    "\n",
    "## Objective\n",
    "\n",
    "Time series forecasting is a critical task in a variety of domains, ranging from finance to power\n",
    "management. While traditional statistical methods have been used, recent developments in\n",
    "machine learning and feature engineering have led to a significant improvement in forecasts.\n",
    "\n",
    "This project aims to build an end-to-end time series forecasting pipeline,\n",
    "illustrating how careful feature engineering can greatly improve the predictive capability over a\n",
    "range of modeling approaches.\n",
    "\n",
    "## Dataset\n",
    "\n",
    "The dataset that we have chosen to use in this project is the [Historical Weather Data](https://www.kaggle.com/datasets/sudalairajkumar/daily-temperature-of-major-cities) dataset from Kaggle.\n",
    "This dataset contains daily temperature data for major cities around the world, including the date and the average temperature for each day."
   ],
   "id": "923eae2e8782ed81"
  },
  {
   "metadata": {},
   "cell_type": "markdown",
   "source": "# Installing and Importing Required Libraries",
   "id": "a0037884333e353b"
  },
  {
   "metadata": {
    "ExecuteTime": {
     "end_time": "2025-04-20T19:53:07.803580Z",
     "start_time": "2025-04-20T19:53:06.571Z"
    }
   },
   "cell_type": "code",
   "source": "!pip install -r requirements.txt",
   "id": "55c9ab7f9f40f55e",
   "outputs": [
    {
     "name": "stdout",
     "output_type": "stream",
     "text": [
      "Requirement already satisfied: pandas~=2.2.3 in /Users/uzair/.pyenv/versions/miniconda3-latest/envs/ProjectA/lib/python3.11/site-packages (from -r requirements.txt (line 1)) (2.2.3)\r\n",
      "Requirement already satisfied: numpy~=2.2.4 in /Users/uzair/.pyenv/versions/miniconda3-latest/envs/ProjectA/lib/python3.11/site-packages (from -r requirements.txt (line 2)) (2.2.4)\r\n",
      "Requirement already satisfied: seaborn~=0.13.2 in /Users/uzair/.pyenv/versions/miniconda3-latest/envs/ProjectA/lib/python3.11/site-packages (from -r requirements.txt (line 3)) (0.13.2)\r\n",
      "Requirement already satisfied: tqdm~=4.67.1 in /Users/uzair/.pyenv/versions/miniconda3-latest/envs/ProjectA/lib/python3.11/site-packages (from -r requirements.txt (line 4)) (4.67.1)\r\n",
      "Requirement already satisfied: scikit-learn~=1.6.1 in /Users/uzair/.pyenv/versions/miniconda3-latest/envs/ProjectA/lib/python3.11/site-packages (from -r requirements.txt (line 5)) (1.6.1)\r\n",
      "Requirement already satisfied: python-dateutil>=2.8.2 in /Users/uzair/.pyenv/versions/miniconda3-latest/envs/ProjectA/lib/python3.11/site-packages (from pandas~=2.2.3->-r requirements.txt (line 1)) (2.9.0.post0)\r\n",
      "Requirement already satisfied: pytz>=2020.1 in /Users/uzair/.pyenv/versions/miniconda3-latest/envs/ProjectA/lib/python3.11/site-packages (from pandas~=2.2.3->-r requirements.txt (line 1)) (2025.2)\r\n",
      "Requirement already satisfied: tzdata>=2022.7 in /Users/uzair/.pyenv/versions/miniconda3-latest/envs/ProjectA/lib/python3.11/site-packages (from pandas~=2.2.3->-r requirements.txt (line 1)) (2025.2)\r\n",
      "Requirement already satisfied: matplotlib!=3.6.1,>=3.4 in /Users/uzair/.pyenv/versions/miniconda3-latest/envs/ProjectA/lib/python3.11/site-packages (from seaborn~=0.13.2->-r requirements.txt (line 3)) (3.10.1)\r\n",
      "Requirement already satisfied: scipy>=1.6.0 in /Users/uzair/.pyenv/versions/miniconda3-latest/envs/ProjectA/lib/python3.11/site-packages (from scikit-learn~=1.6.1->-r requirements.txt (line 5)) (1.15.2)\r\n",
      "Requirement already satisfied: joblib>=1.2.0 in /Users/uzair/.pyenv/versions/miniconda3-latest/envs/ProjectA/lib/python3.11/site-packages (from scikit-learn~=1.6.1->-r requirements.txt (line 5)) (1.4.2)\r\n",
      "Requirement already satisfied: threadpoolctl>=3.1.0 in /Users/uzair/.pyenv/versions/miniconda3-latest/envs/ProjectA/lib/python3.11/site-packages (from scikit-learn~=1.6.1->-r requirements.txt (line 5)) (3.6.0)\r\n",
      "Requirement already satisfied: contourpy>=1.0.1 in /Users/uzair/.pyenv/versions/miniconda3-latest/envs/ProjectA/lib/python3.11/site-packages (from matplotlib!=3.6.1,>=3.4->seaborn~=0.13.2->-r requirements.txt (line 3)) (1.3.2)\r\n",
      "Requirement already satisfied: cycler>=0.10 in /Users/uzair/.pyenv/versions/miniconda3-latest/envs/ProjectA/lib/python3.11/site-packages (from matplotlib!=3.6.1,>=3.4->seaborn~=0.13.2->-r requirements.txt (line 3)) (0.12.1)\r\n",
      "Requirement already satisfied: fonttools>=4.22.0 in /Users/uzair/.pyenv/versions/miniconda3-latest/envs/ProjectA/lib/python3.11/site-packages (from matplotlib!=3.6.1,>=3.4->seaborn~=0.13.2->-r requirements.txt (line 3)) (4.57.0)\r\n",
      "Requirement already satisfied: kiwisolver>=1.3.1 in /Users/uzair/.pyenv/versions/miniconda3-latest/envs/ProjectA/lib/python3.11/site-packages (from matplotlib!=3.6.1,>=3.4->seaborn~=0.13.2->-r requirements.txt (line 3)) (1.4.7)\r\n",
      "Requirement already satisfied: packaging>=20.0 in /Users/uzair/.pyenv/versions/miniconda3-latest/envs/ProjectA/lib/python3.11/site-packages (from matplotlib!=3.6.1,>=3.4->seaborn~=0.13.2->-r requirements.txt (line 3)) (25.0)\r\n",
      "Requirement already satisfied: pillow>=8 in /Users/uzair/.pyenv/versions/miniconda3-latest/envs/ProjectA/lib/python3.11/site-packages (from matplotlib!=3.6.1,>=3.4->seaborn~=0.13.2->-r requirements.txt (line 3)) (11.1.0)\r\n",
      "Requirement already satisfied: pyparsing>=2.3.1 in /Users/uzair/.pyenv/versions/miniconda3-latest/envs/ProjectA/lib/python3.11/site-packages (from matplotlib!=3.6.1,>=3.4->seaborn~=0.13.2->-r requirements.txt (line 3)) (3.2.3)\r\n",
      "Requirement already satisfied: six>=1.5 in /Users/uzair/.pyenv/versions/miniconda3-latest/envs/ProjectA/lib/python3.11/site-packages (from python-dateutil>=2.8.2->pandas~=2.2.3->-r requirements.txt (line 1)) (1.17.0)\r\n"
     ]
    }
   ],
   "execution_count": 55
  },
  {
   "metadata": {},
   "cell_type": "markdown",
   "source": "# Loading the dataset",
   "id": "845d5fb9974e7426"
  },
  {
   "metadata": {
    "ExecuteTime": {
     "end_time": "2025-04-20T19:53:08.589904Z",
     "start_time": "2025-04-20T19:53:07.819190Z"
    }
   },
   "cell_type": "code",
   "source": [
    "import matplotlib.pyplot as plt\n",
    "import numpy as np\n",
    "import pandas as pd\n",
    "import seaborn as sns\n",
    "\n",
    "df = pd.read_csv(\"data/city_temperature.csv\", low_memory=False)"
   ],
   "id": "80f7b582f9ac931f",
   "outputs": [],
   "execution_count": 56
  },
  {
   "metadata": {},
   "cell_type": "markdown",
   "source": "# Data Exploration",
   "id": "76cdcf5f1775b8b4"
  },
  {
   "metadata": {
    "ExecuteTime": {
     "end_time": "2025-04-20T19:53:08.618501Z",
     "start_time": "2025-04-20T19:53:08.613139Z"
    }
   },
   "cell_type": "code",
   "source": [
    "# View the first rows to get an idea of the data\n",
    "df.head()"
   ],
   "id": "1640ae6d6e4657f5",
   "outputs": [
    {
     "data": {
      "text/plain": [
       "   Region  Country State     City  Month  Day  Year  AvgTemperature\n",
       "0  Africa  Algeria   NaN  Algiers      1    1  1995            64.2\n",
       "1  Africa  Algeria   NaN  Algiers      1    2  1995            49.4\n",
       "2  Africa  Algeria   NaN  Algiers      1    3  1995            48.8\n",
       "3  Africa  Algeria   NaN  Algiers      1    4  1995            46.4\n",
       "4  Africa  Algeria   NaN  Algiers      1    5  1995            47.9"
      ],
      "text/html": [
       "<div>\n",
       "<style scoped>\n",
       "    .dataframe tbody tr th:only-of-type {\n",
       "        vertical-align: middle;\n",
       "    }\n",
       "\n",
       "    .dataframe tbody tr th {\n",
       "        vertical-align: top;\n",
       "    }\n",
       "\n",
       "    .dataframe thead th {\n",
       "        text-align: right;\n",
       "    }\n",
       "</style>\n",
       "<table border=\"1\" class=\"dataframe\">\n",
       "  <thead>\n",
       "    <tr style=\"text-align: right;\">\n",
       "      <th></th>\n",
       "      <th>Region</th>\n",
       "      <th>Country</th>\n",
       "      <th>State</th>\n",
       "      <th>City</th>\n",
       "      <th>Month</th>\n",
       "      <th>Day</th>\n",
       "      <th>Year</th>\n",
       "      <th>AvgTemperature</th>\n",
       "    </tr>\n",
       "  </thead>\n",
       "  <tbody>\n",
       "    <tr>\n",
       "      <th>0</th>\n",
       "      <td>Africa</td>\n",
       "      <td>Algeria</td>\n",
       "      <td>NaN</td>\n",
       "      <td>Algiers</td>\n",
       "      <td>1</td>\n",
       "      <td>1</td>\n",
       "      <td>1995</td>\n",
       "      <td>64.2</td>\n",
       "    </tr>\n",
       "    <tr>\n",
       "      <th>1</th>\n",
       "      <td>Africa</td>\n",
       "      <td>Algeria</td>\n",
       "      <td>NaN</td>\n",
       "      <td>Algiers</td>\n",
       "      <td>1</td>\n",
       "      <td>2</td>\n",
       "      <td>1995</td>\n",
       "      <td>49.4</td>\n",
       "    </tr>\n",
       "    <tr>\n",
       "      <th>2</th>\n",
       "      <td>Africa</td>\n",
       "      <td>Algeria</td>\n",
       "      <td>NaN</td>\n",
       "      <td>Algiers</td>\n",
       "      <td>1</td>\n",
       "      <td>3</td>\n",
       "      <td>1995</td>\n",
       "      <td>48.8</td>\n",
       "    </tr>\n",
       "    <tr>\n",
       "      <th>3</th>\n",
       "      <td>Africa</td>\n",
       "      <td>Algeria</td>\n",
       "      <td>NaN</td>\n",
       "      <td>Algiers</td>\n",
       "      <td>1</td>\n",
       "      <td>4</td>\n",
       "      <td>1995</td>\n",
       "      <td>46.4</td>\n",
       "    </tr>\n",
       "    <tr>\n",
       "      <th>4</th>\n",
       "      <td>Africa</td>\n",
       "      <td>Algeria</td>\n",
       "      <td>NaN</td>\n",
       "      <td>Algiers</td>\n",
       "      <td>1</td>\n",
       "      <td>5</td>\n",
       "      <td>1995</td>\n",
       "      <td>47.9</td>\n",
       "    </tr>\n",
       "  </tbody>\n",
       "</table>\n",
       "</div>"
      ]
     },
     "execution_count": 57,
     "metadata": {},
     "output_type": "execute_result"
    }
   ],
   "execution_count": 57
  },
  {
   "metadata": {},
   "cell_type": "markdown",
   "source": [
    "## Understanding the data charecteristics\n",
    "\n",
    "This is \"getting to know the data\" and involves analyzing the types of features, their ranges, as well as the distribution of their values."
   ],
   "id": "4ead8cd4249baf06"
  },
  {
   "metadata": {
    "ExecuteTime": {
     "end_time": "2025-04-20T19:53:08.681087Z",
     "start_time": "2025-04-20T19:53:08.677374Z"
    }
   },
   "cell_type": "code",
   "source": [
    "# Feature types\n",
    "print(\"Feature types:\")\n",
    "df.dtypes"
   ],
   "id": "7fd0a452ab37c4f0",
   "outputs": [
    {
     "name": "stdout",
     "output_type": "stream",
     "text": [
      "Feature types:\n"
     ]
    },
    {
     "data": {
      "text/plain": [
       "Region             object\n",
       "Country            object\n",
       "State              object\n",
       "City               object\n",
       "Month               int64\n",
       "Day                 int64\n",
       "Year                int64\n",
       "AvgTemperature    float64\n",
       "dtype: object"
      ]
     },
     "execution_count": 58,
     "metadata": {},
     "output_type": "execute_result"
    }
   ],
   "execution_count": 58
  },
  {
   "metadata": {
    "ExecuteTime": {
     "end_time": "2025-04-20T19:53:08.918643Z",
     "start_time": "2025-04-20T19:53:08.767343Z"
    }
   },
   "cell_type": "code",
   "source": [
    "# Range of features\n",
    "print(\"Range of features:\")\n",
    "df.describe().apply(lambda x: x.apply(lambda y: f\"{y:.2f}\"))"
   ],
   "id": "8bde39b30f2df15d",
   "outputs": [
    {
     "name": "stdout",
     "output_type": "stream",
     "text": [
      "Range of features:\n"
     ]
    },
    {
     "data": {
      "text/plain": [
       "            Month         Day        Year AvgTemperature\n",
       "count  2906327.00  2906327.00  2906327.00     2906327.00\n",
       "mean         6.47       15.72     2006.62          56.00\n",
       "std          3.46        8.80       23.38          32.12\n",
       "min          1.00        0.00      200.00         -99.00\n",
       "25%          3.00        8.00     2001.00          45.80\n",
       "50%          6.00       16.00     2007.00          62.50\n",
       "75%          9.00       23.00     2013.00          75.50\n",
       "max         12.00       31.00     2020.00         110.00"
      ],
      "text/html": [
       "<div>\n",
       "<style scoped>\n",
       "    .dataframe tbody tr th:only-of-type {\n",
       "        vertical-align: middle;\n",
       "    }\n",
       "\n",
       "    .dataframe tbody tr th {\n",
       "        vertical-align: top;\n",
       "    }\n",
       "\n",
       "    .dataframe thead th {\n",
       "        text-align: right;\n",
       "    }\n",
       "</style>\n",
       "<table border=\"1\" class=\"dataframe\">\n",
       "  <thead>\n",
       "    <tr style=\"text-align: right;\">\n",
       "      <th></th>\n",
       "      <th>Month</th>\n",
       "      <th>Day</th>\n",
       "      <th>Year</th>\n",
       "      <th>AvgTemperature</th>\n",
       "    </tr>\n",
       "  </thead>\n",
       "  <tbody>\n",
       "    <tr>\n",
       "      <th>count</th>\n",
       "      <td>2906327.00</td>\n",
       "      <td>2906327.00</td>\n",
       "      <td>2906327.00</td>\n",
       "      <td>2906327.00</td>\n",
       "    </tr>\n",
       "    <tr>\n",
       "      <th>mean</th>\n",
       "      <td>6.47</td>\n",
       "      <td>15.72</td>\n",
       "      <td>2006.62</td>\n",
       "      <td>56.00</td>\n",
       "    </tr>\n",
       "    <tr>\n",
       "      <th>std</th>\n",
       "      <td>3.46</td>\n",
       "      <td>8.80</td>\n",
       "      <td>23.38</td>\n",
       "      <td>32.12</td>\n",
       "    </tr>\n",
       "    <tr>\n",
       "      <th>min</th>\n",
       "      <td>1.00</td>\n",
       "      <td>0.00</td>\n",
       "      <td>200.00</td>\n",
       "      <td>-99.00</td>\n",
       "    </tr>\n",
       "    <tr>\n",
       "      <th>25%</th>\n",
       "      <td>3.00</td>\n",
       "      <td>8.00</td>\n",
       "      <td>2001.00</td>\n",
       "      <td>45.80</td>\n",
       "    </tr>\n",
       "    <tr>\n",
       "      <th>50%</th>\n",
       "      <td>6.00</td>\n",
       "      <td>16.00</td>\n",
       "      <td>2007.00</td>\n",
       "      <td>62.50</td>\n",
       "    </tr>\n",
       "    <tr>\n",
       "      <th>75%</th>\n",
       "      <td>9.00</td>\n",
       "      <td>23.00</td>\n",
       "      <td>2013.00</td>\n",
       "      <td>75.50</td>\n",
       "    </tr>\n",
       "    <tr>\n",
       "      <th>max</th>\n",
       "      <td>12.00</td>\n",
       "      <td>31.00</td>\n",
       "      <td>2020.00</td>\n",
       "      <td>110.00</td>\n",
       "    </tr>\n",
       "  </tbody>\n",
       "</table>\n",
       "</div>"
      ]
     },
     "execution_count": 59,
     "metadata": {},
     "output_type": "execute_result"
    }
   ],
   "execution_count": 59
  },
  {
   "metadata": {},
   "cell_type": "markdown",
   "source": [
    "From the range of features, we observe the following key points:\n",
    "\n",
    "- The minimum value in the `Year` column is 200.\n",
    "- The minimum value in the `AvgTemperature` column is -99.\n",
    "\n",
    "We will check the values near these minimums to get an idea of what they may represent."
   ],
   "id": "3b5acf4635c5c904"
  },
  {
   "metadata": {
    "ExecuteTime": {
     "end_time": "2025-04-20T19:53:09.028384Z",
     "start_time": "2025-04-20T19:53:09.001893Z"
    }
   },
   "cell_type": "code",
   "source": [
    "# Check the 5 lowest unique values in the Year and AvgTemperature columns\n",
    "unique_years = df[\"Year\"].unique()\n",
    "unique_years.sort()\n",
    "unique_temps = df[\"AvgTemperature\"].unique()\n",
    "unique_temps.sort()\n",
    "\n",
    "print(\"Lowest Year and AvgTemperature values:\")\n",
    "pd.DataFrame({\n",
    "    \"Year\": unique_years[:5],\n",
    "    \"AvgTemperature\": unique_temps[:5]\n",
    "})"
   ],
   "id": "35329e96feb46ccf",
   "outputs": [
    {
     "name": "stdout",
     "output_type": "stream",
     "text": [
      "Lowest Year and AvgTemperature values:\n"
     ]
    },
    {
     "data": {
      "text/plain": [
       "   Year  AvgTemperature\n",
       "0   200           -99.0\n",
       "1   201           -50.0\n",
       "2  1995           -49.1\n",
       "3  1996           -47.7\n",
       "4  1997           -46.9"
      ],
      "text/html": [
       "<div>\n",
       "<style scoped>\n",
       "    .dataframe tbody tr th:only-of-type {\n",
       "        vertical-align: middle;\n",
       "    }\n",
       "\n",
       "    .dataframe tbody tr th {\n",
       "        vertical-align: top;\n",
       "    }\n",
       "\n",
       "    .dataframe thead th {\n",
       "        text-align: right;\n",
       "    }\n",
       "</style>\n",
       "<table border=\"1\" class=\"dataframe\">\n",
       "  <thead>\n",
       "    <tr style=\"text-align: right;\">\n",
       "      <th></th>\n",
       "      <th>Year</th>\n",
       "      <th>AvgTemperature</th>\n",
       "    </tr>\n",
       "  </thead>\n",
       "  <tbody>\n",
       "    <tr>\n",
       "      <th>0</th>\n",
       "      <td>200</td>\n",
       "      <td>-99.0</td>\n",
       "    </tr>\n",
       "    <tr>\n",
       "      <th>1</th>\n",
       "      <td>201</td>\n",
       "      <td>-50.0</td>\n",
       "    </tr>\n",
       "    <tr>\n",
       "      <th>2</th>\n",
       "      <td>1995</td>\n",
       "      <td>-49.1</td>\n",
       "    </tr>\n",
       "    <tr>\n",
       "      <th>3</th>\n",
       "      <td>1996</td>\n",
       "      <td>-47.7</td>\n",
       "    </tr>\n",
       "    <tr>\n",
       "      <th>4</th>\n",
       "      <td>1997</td>\n",
       "      <td>-46.9</td>\n",
       "    </tr>\n",
       "  </tbody>\n",
       "</table>\n",
       "</div>"
      ]
     },
     "execution_count": 60,
     "metadata": {},
     "output_type": "execute_result"
    }
   ],
   "execution_count": 60
  },
  {
   "metadata": {},
   "cell_type": "markdown",
   "source": [
    "The `Year` column has two values abnormal values: 200 and 201. These are likely data entry errors.\n",
    "The `AvgTemperature` column has a value of -99, which is likely a placeholder for missing data since it is far from the other lowest values."
   ],
   "id": "c326415bddb2619a"
  },
  {
   "metadata": {},
   "cell_type": "markdown",
   "source": [
    "# Data Processing\n",
    "\n",
    "This involves handling the following:\n",
    "\n",
    "- Missing value imputation\n",
    "- Outlier detection and treatment\n",
    "- Resampling to different time frequencies (hourly, daily, weekly)\n",
    "- Normalization/standardization of features"
   ],
   "id": "b40ac19ee5f7ba9d"
  },
  {
   "metadata": {},
   "cell_type": "markdown",
   "source": "### Missing value imputation",
   "id": "ad025ea6a48d8bb"
  },
  {
   "metadata": {
    "ExecuteTime": {
     "end_time": "2025-04-20T19:53:09.480744Z",
     "start_time": "2025-04-20T19:53:09.294664Z"
    }
   },
   "cell_type": "code",
   "source": [
    "missing_temp_values = df.isnull().sum()\n",
    "print(\"Missing values in each column:\")\n",
    "missing_temp_values"
   ],
   "id": "8e852332c525e690",
   "outputs": [
    {
     "name": "stdout",
     "output_type": "stream",
     "text": [
      "Missing values in each column:\n"
     ]
    },
    {
     "data": {
      "text/plain": [
       "Region                  0\n",
       "Country                 0\n",
       "State             1450990\n",
       "City                    0\n",
       "Month                   0\n",
       "Day                     0\n",
       "Year                    0\n",
       "AvgTemperature          0\n",
       "dtype: int64"
      ]
     },
     "execution_count": 61,
     "metadata": {},
     "output_type": "execute_result"
    }
   ],
   "execution_count": 61
  },
  {
   "metadata": {},
   "cell_type": "markdown",
   "source": [
    "The results of the missing value check show that there are no missing values in the dataset, except for the `State` column. This column is not important for the scope of this project, nor is it easy to impute values for this column without referencing a large, separate dataset that maps cities to the state/province they are in.\n",
    "\n",
    "However, in this dataset there are actually missing `AvgTemperature` values. They are denoted by a value of `-99` in the row that doesn't have a temperature reading."
   ],
   "id": "80f3564ae7293f2e"
  },
  {
   "metadata": {
    "ExecuteTime": {
     "end_time": "2025-04-20T19:53:09.540186Z",
     "start_time": "2025-04-20T19:53:09.529837Z"
    }
   },
   "cell_type": "code",
   "source": [
    "missing_temp_values = df[df[\"AvgTemperature\"] == -99]\n",
    "missing_year_values = df[df[\"Year\"] < 1900]\n",
    "print(f\"Missing values in AvgTemperature column: {len(missing_temp_values)}\")\n",
    "print(f\"Missing values in Year column: {len(missing_year_values)}\")"
   ],
   "id": "5c1b0f9ade3b77e2",
   "outputs": [
    {
     "name": "stdout",
     "output_type": "stream",
     "text": [
      "Missing values in AvgTemperature column: 79672\n",
      "Missing values in Year column: 440\n"
     ]
    }
   ],
   "execution_count": 62
  },
  {
   "metadata": {},
   "cell_type": "markdown",
   "source": "These missing values will need to be imputed. We can determine if the missing data is correlated more to any specific location or time period:",
   "id": "e9e66a4cb03e32ed"
  },
  {
   "metadata": {
    "ExecuteTime": {
     "end_time": "2025-04-20T19:53:09.735613Z",
     "start_time": "2025-04-20T19:53:09.609510Z"
    }
   },
   "cell_type": "code",
   "source": [
    "# Plot of the missing values in each region, along with the total number of values in each region\n",
    "plt.figure(figsize=(15, 6))\n",
    "sns.countplot(x=\"Region\", data=missing_temp_values)\n",
    "plt.title(\"Missing Values in AvgTemperature by Region\")\n",
    "plt.xlabel(\"Region\")\n",
    "plt.ylabel(\"Count\")\n",
    "plt.xticks(rotation=45)\n",
    "plt.show()"
   ],
   "id": "ba57fe013a2c6a4f",
   "outputs": [
    {
     "data": {
      "text/plain": [
       "<Figure size 1500x600 with 1 Axes>"
      ],
      "image/png": "[encoded data removed]"
     },
     "metadata": {},
     "output_type": "display_data"
    }
   ],
   "execution_count": 63
  },
  {
   "metadata": {
    "ExecuteTime": {
     "end_time": "2025-04-20T19:53:09.903179Z",
     "start_time": "2025-04-20T19:53:09.756409Z"
    }
   },
   "cell_type": "code",
   "source": [
    "# Plot of the missing values by year\n",
    "plt.figure(figsize=(15, 6))\n",
    "sns.countplot(x=\"Year\", data=missing_temp_values)\n",
    "plt.title(\"Missing Values in AvgTemperature by Year\")\n",
    "plt.xlabel(\"Year\")\n",
    "plt.ylabel(\"Count\")\n",
    "plt.xticks(rotation=45)\n",
    "plt.show()"
   ],
   "id": "51e553f1c5ba73a7",
   "outputs": [
    {
     "data": {
      "text/plain": [
       "<Figure size 1500x600 with 1 Axes>"
      ],
      "image/png": "[encoded data removed]"
     },
     "metadata": {},
     "output_type": "display_data"
    }
   ],
   "execution_count": 64
  },
  {
   "metadata": {
    "ExecuteTime": {
     "end_time": "2025-04-20T19:53:09.939419Z",
     "start_time": "2025-04-20T19:53:09.937335Z"
    }
   },
   "cell_type": "code",
   "source": [
    "# Missing values as a proportion of all values\n",
    "missing_values_proportion = len(missing_temp_values) / len(df)\n",
    "print(f\"Proportion of missing values in AvgTemperature: {missing_values_proportion:.2%}\")"
   ],
   "id": "b4823609ca9b567f",
   "outputs": [
    {
     "name": "stdout",
     "output_type": "stream",
     "text": [
      "Proportion of missing values in AvgTemperature: 2.74%\n"
     ]
    }
   ],
   "execution_count": 65
  },
  {
   "metadata": {
    "ExecuteTime": {
     "end_time": "2025-04-20T19:53:10.088301Z",
     "start_time": "2025-04-20T19:53:10.005770Z"
    }
   },
   "cell_type": "code",
   "source": [
    "# By region\n",
    "print(\"Percentage of missing values by region:\")\n",
    "missing_values_by_region = missing_temp_values.groupby(\"Region\").size()\n",
    "missing_values_by_region_proportion = missing_values_by_region / df.groupby(\"Region\").size()\n",
    "missing_values_by_region_proportion = missing_values_by_region_proportion.sort_values(ascending=False)\n",
    "missing_values_by_region_proportion = missing_values_by_region_proportion.apply(lambda x: f\"{x:.2%}\")\n",
    "missing_values_by_region_proportion.name = \"Percentage of Missing Values\"\n",
    "missing_values_by_region_proportion"
   ],
   "id": "6344c6991f45c994",
   "outputs": [
    {
     "name": "stdout",
     "output_type": "stream",
     "text": [
      "Percentage of missing values by region:\n"
     ]
    },
    {
     "data": {
      "text/plain": [
       "Region\n",
       "Africa                               12.03%\n",
       "South/Central America & Carribean     5.85%\n",
       "Europe                                3.48%\n",
       "Asia                                  3.32%\n",
       "Middle East                           3.16%\n",
       "Australia/South Pacific               0.70%\n",
       "North America                         0.55%\n",
       "Name: Percentage of Missing Values, dtype: object"
      ]
     },
     "execution_count": 66,
     "metadata": {},
     "output_type": "execute_result"
    }
   ],
   "execution_count": 66
  },
  {
   "metadata": {
    "ExecuteTime": {
     "end_time": "2025-04-20T19:53:10.144051Z",
     "start_time": "2025-04-20T19:53:10.117679Z"
    }
   },
   "cell_type": "code",
   "source": [
    "# By year\n",
    "print(\"Proportion of missing values by year:\")\n",
    "missing_values_by_year = missing_temp_values.groupby(\"Year\").size()\n",
    "missing_values_by_year_proportion = missing_values_by_year / df.groupby(\"Year\").size()\n",
    "missing_values_by_year_proportion = missing_values_by_year_proportion.sort_values(ascending=False)\n",
    "missing_values_by_year_proportion = missing_values_by_year_proportion.apply(lambda x: f\"{x:.2%}\")\n",
    "missing_values_by_year_proportion.name = \"Proportion of Missing Values\"\n",
    "missing_values_by_year_proportion"
   ],
   "id": "b36432e7d3360cee",
   "outputs": [
    {
     "name": "stdout",
     "output_type": "stream",
     "text": [
      "Proportion of missing values by year:\n"
     ]
    },
    {
     "data": {
      "text/plain": [
       "Year\n",
       "200     100.00%\n",
       "201     100.00%\n",
       "1998      6.70%\n",
       "1995      5.45%\n",
       "1996      5.23%\n",
       "1999      4.98%\n",
       "2002      4.81%\n",
       "1997      4.81%\n",
       "2000      4.61%\n",
       "2003      4.08%\n",
       "2001      3.42%\n",
       "2004      3.41%\n",
       "2006      2.93%\n",
       "2005      2.65%\n",
       "2007      1.95%\n",
       "2008      1.90%\n",
       "2010      1.72%\n",
       "2019      1.18%\n",
       "2011      1.17%\n",
       "2009      1.11%\n",
       "2014      1.06%\n",
       "2018      0.89%\n",
       "2016      0.78%\n",
       "2012      0.74%\n",
       "2013      0.71%\n",
       "2015      0.64%\n",
       "2017      0.49%\n",
       "2020      0.18%\n",
       "Name: Proportion of Missing Values, dtype: object"
      ]
     },
     "execution_count": 67,
     "metadata": {},
     "output_type": "execute_result"
    }
   ],
   "execution_count": 67
  },
  {
   "metadata": {},
   "cell_type": "markdown",
   "source": [
    "The main source of missing values is the Africa region, which has approximately 12% of its values missing.\n",
    "Additionally, we can observe that as time passed, the number of missing values decreased.\n",
    "This is likely due to improvements in data collection methods over time, as well as the proliferation of technology across the globe.\n",
    "\n",
    "To fill in the missing values, we will apply time series forcasting.\n",
    "For the missing year values, we will simply delete them since they are missing 100% of the data anyway."
   ],
   "id": "e81af56470bdc379"
  },
  {
   "metadata": {
    "ExecuteTime": {
     "end_time": "2025-04-20T19:53:10.296264Z",
     "start_time": "2025-04-20T19:53:10.211866Z"
    }
   },
   "cell_type": "code",
   "source": [
    "# Delete the invalid years\n",
    "df = df[df[\"Year\"] >= 1900]"
   ],
   "id": "3942023dc3ca7958",
   "outputs": [],
   "execution_count": 68
  },
  {
   "metadata": {},
   "cell_type": "markdown",
   "source": [
    "### Datetime conversion\n",
    "\n",
    "Now that the invalid years have been removed from the data, we can a separate `Date` column to simplify date handling.\n",
    "In the original dataset, the date is split into three separate columns, one for month, day, and year each. For simplicity in date processing and feature engineering, we will combine these three columns into a single datetime column."
   ],
   "id": "59ef7cec63073bc3"
  },
  {
   "metadata": {
    "ExecuteTime": {
     "end_time": "2025-04-20T19:53:10.835693Z",
     "start_time": "2025-04-20T19:53:10.324047Z"
    }
   },
   "cell_type": "code",
   "source": [
    "df['Month'] = df['Month'].clip(lower=1, upper=12)\n",
    "df['Day'] = df['Day'].clip(lower=1, upper=31)\n",
    "\n",
    "df['Date'] = pd.to_datetime(df[['Year', 'Month', 'Day']])\n",
    "\n",
    "# Keep the Year column to simply future code\n",
    "df.drop(columns=[\"Month\", \"Day\"], inplace=True)\n",
    "\n",
    "df.head()"
   ],
   "id": "b90482bbaf4ed53d",
   "outputs": [
    {
     "data": {
      "text/plain": [
       "   Region  Country State     City  Year  AvgTemperature       Date\n",
       "0  Africa  Algeria   NaN  Algiers  1995            64.2 1995-01-01\n",
       "1  Africa  Algeria   NaN  Algiers  1995            49.4 1995-01-02\n",
       "2  Africa  Algeria   NaN  Algiers  1995            48.8 1995-01-03\n",
       "3  Africa  Algeria   NaN  Algiers  1995            46.4 1995-01-04\n",
       "4  Africa  Algeria   NaN  Algiers  1995            47.9 1995-01-05"
      ],
      "text/html": [
       "<div>\n",
       "<style scoped>\n",
       "    .dataframe tbody tr th:only-of-type {\n",
       "        vertical-align: middle;\n",
       "    }\n",
       "\n",
       "    .dataframe tbody tr th {\n",
       "        vertical-align: top;\n",
       "    }\n",
       "\n",
       "    .dataframe thead th {\n",
       "        text-align: right;\n",
       "    }\n",
       "</style>\n",
       "<table border=\"1\" class=\"dataframe\">\n",
       "  <thead>\n",
       "    <tr style=\"text-align: right;\">\n",
       "      <th></th>\n",
       "      <th>Region</th>\n",
       "      <th>Country</th>\n",
       "      <th>State</th>\n",
       "      <th>City</th>\n",
       "      <th>Year</th>\n",
       "      <th>AvgTemperature</th>\n",
       "      <th>Date</th>\n",
       "    </tr>\n",
       "  </thead>\n",
       "  <tbody>\n",
       "    <tr>\n",
       "      <th>0</th>\n",
       "      <td>Africa</td>\n",
       "      <td>Algeria</td>\n",
       "      <td>NaN</td>\n",
       "      <td>Algiers</td>\n",
       "      <td>1995</td>\n",
       "      <td>64.2</td>\n",
       "      <td>1995-01-01</td>\n",
       "    </tr>\n",
       "    <tr>\n",
       "      <th>1</th>\n",
       "      <td>Africa</td>\n",
       "      <td>Algeria</td>\n",
       "      <td>NaN</td>\n",
       "      <td>Algiers</td>\n",
       "      <td>1995</td>\n",
       "      <td>49.4</td>\n",
       "      <td>1995-01-02</td>\n",
       "    </tr>\n",
       "    <tr>\n",
       "      <th>2</th>\n",
       "      <td>Africa</td>\n",
       "      <td>Algeria</td>\n",
       "      <td>NaN</td>\n",
       "      <td>Algiers</td>\n",
       "      <td>1995</td>\n",
       "      <td>48.8</td>\n",
       "      <td>1995-01-03</td>\n",
       "    </tr>\n",
       "    <tr>\n",
       "      <th>3</th>\n",
       "      <td>Africa</td>\n",
       "      <td>Algeria</td>\n",
       "      <td>NaN</td>\n",
       "      <td>Algiers</td>\n",
       "      <td>1995</td>\n",
       "      <td>46.4</td>\n",
       "      <td>1995-01-04</td>\n",
       "    </tr>\n",
       "    <tr>\n",
       "      <th>4</th>\n",
       "      <td>Africa</td>\n",
       "      <td>Algeria</td>\n",
       "      <td>NaN</td>\n",
       "      <td>Algiers</td>\n",
       "      <td>1995</td>\n",
       "      <td>47.9</td>\n",
       "      <td>1995-01-05</td>\n",
       "    </tr>\n",
       "  </tbody>\n",
       "</table>\n",
       "</div>"
      ]
     },
     "execution_count": 69,
     "metadata": {},
     "output_type": "execute_result"
    }
   ],
   "execution_count": 69
  },
  {
   "metadata": {},
   "cell_type": "markdown",
   "source": "### Data imputation",
   "id": "20815c0e27bc82ec"
  },
  {
   "metadata": {
    "ExecuteTime": {
     "end_time": "2025-04-20T19:53:10.881138Z",
     "start_time": "2025-04-20T19:53:10.877365Z"
    }
   },
   "cell_type": "code",
   "source": [
    "from tqdm.notebook import tqdm\n",
    "\n",
    "\n",
    "def simple_time_series_imputation(df, target_column='AvgTemperature', missing_value_indicator=-99):\n",
    "    \"\"\"\n",
    "    Fill missing values using simple time series methods\n",
    "    \"\"\"\n",
    "\n",
    "    # Create a copy of the dataframe\n",
    "    df_copy = df.copy()\n",
    "\n",
    "    # Replace missing value indicator with NaN if specified\n",
    "    if missing_value_indicator is not None:\n",
    "        df_copy[target_column] = df_copy[target_column].replace(missing_value_indicator, np.nan)\n",
    "\n",
    "    # Count missing values before imputation\n",
    "    missing_before = df_copy[target_column].isna().sum()\n",
    "\n",
    "    if missing_before == 0:\n",
    "        print(\"No missing values to impute.\")\n",
    "        return df_copy\n",
    "\n",
    "    print(f\"Missing values before imputation: {missing_before}\")\n",
    "\n",
    "    # Ensure date column is datetime type\n",
    "    if not pd.api.types.is_datetime64_any_dtype(df_copy[\"Date\"]):\n",
    "        df_copy[\"Date\"] = pd.to_datetime(df_copy[\"Date\"])\n",
    "\n",
    "    print(f\"Processing each city separately\")\n",
    "    locations = df_copy[\"City\"].unique()\n",
    "\n",
    "    # Process each location\n",
    "    imputed_dfs = []\n",
    "    for location in tqdm(locations, desc=f\"Processing Cities\"):\n",
    "        # Get data for this location\n",
    "        location_data = df_copy[df_copy[\"City\"] == location].copy()\n",
    "\n",
    "        # Skip if no missing values\n",
    "        if not location_data[target_column].isna().any():\n",
    "            imputed_dfs.append(location_data)\n",
    "            continue\n",
    "\n",
    "        # Sort by date\n",
    "        location_data = location_data.sort_values(by=\"Date\")\n",
    "\n",
    "        # Apply simple imputation methods\n",
    "        # 1. Linear interpolation (for small gaps)\n",
    "        location_data[target_column] = location_data[target_column].interpolate(method='linear')\n",
    "\n",
    "        # 2. Forward fill then backward fill (for any remaining gaps)\n",
    "        location_data[target_column] = location_data[target_column].ffill().bfill()\n",
    "\n",
    "        imputed_dfs.append(location_data)\n",
    "\n",
    "        # Combine all locations\n",
    "        df_imputed = pd.concat(imputed_dfs)\n",
    "\n",
    "    # Count missing values after imputation\n",
    "    missing_after = df_imputed[target_column].isna().sum()\n",
    "    print(f\"Missing values after imputation: {missing_after}\")\n",
    "    print(f\"Values filled: {missing_before - missing_after}\")\n",
    "\n",
    "    # If missing_value_indicator was provided, replace NaN back to the indicator for any remaining missing values\n",
    "    if missing_value_indicator is not None and missing_after > 0:\n",
    "        df_imputed[target_column] = df_imputed[target_column].fillna(missing_value_indicator)\n",
    "\n",
    "    return df_imputed"
   ],
   "id": "d52727008b071246",
   "outputs": [],
   "execution_count": 70
  },
  {
   "metadata": {
    "ExecuteTime": {
     "end_time": "2025-04-20T19:53:43.036177Z",
     "start_time": "2025-04-20T19:53:10.919318Z"
    }
   },
   "cell_type": "code",
   "source": [
    "# Apply the seasonal mean imputation function to the dataframe\n",
    "df = simple_time_series_imputation(df, target_column='AvgTemperature', missing_value_indicator=-99)"
   ],
   "id": "c8fbc23fa25dea92",
   "outputs": [
    {
     "name": "stdout",
     "output_type": "stream",
     "text": [
      "Missing values before imputation: 79232\n",
      "Processing each city separately\n"
     ]
    },
    {
     "data": {
      "text/plain": [
       "Processing Cities:   0%|          | 0/321 [00:00<?, ?it/s]"
      ],
      "application/vnd.jupyter.widget-view+json": {
       "version_major": 2,
       "version_minor": 0,
       "model_id": "001b3daae9074e84961be66d86897465"
      }
     },
     "metadata": {},
     "output_type": "display_data"
    },
    {
     "name": "stdout",
     "output_type": "stream",
     "text": [
      "Missing values after imputation: 0\n",
      "Values filled: 79232\n"
     ]
    }
   ],
   "execution_count": 71
  },
  {
   "metadata": {
    "ExecuteTime": {
     "end_time": "2025-04-20T19:53:43.060333Z",
     "start_time": "2025-04-20T19:53:43.057217Z"
    }
   },
   "cell_type": "code",
   "source": [
    "missing_values = df[df[\"AvgTemperature\"] == -99]\n",
    "\n",
    "# Check if there are any missing values left\n",
    "if len(missing_values) == 0:\n",
    "    print(\"No missing values left in AvgTemperature column.\")\n",
    "else:\n",
    "    print(f\"Missing values left in AvgTemperature column: {len(missing_values)}\")"
   ],
   "id": "ce9e6debce28b8b1",
   "outputs": [
    {
     "name": "stdout",
     "output_type": "stream",
     "text": [
      "No missing values left in AvgTemperature column.\n"
     ]
    }
   ],
   "execution_count": 72
  },
  {
   "metadata": {},
   "cell_type": "markdown",
   "source": [
    "### Unit conversion\n",
    "\n",
    "In the dataset, the temperature is in Fahrenheit, but we will convert it to Celsius for better interpretability. This is because Canada uses the metric system and Celsius is the standard unit of temperature in Canada."
   ],
   "id": "239683367584243e"
  },
  {
   "metadata": {
    "ExecuteTime": {
     "end_time": "2025-04-20T19:53:43.101092Z",
     "start_time": "2025-04-20T19:53:43.089008Z"
    }
   },
   "cell_type": "code",
   "source": [
    "def fahrenheit_to_celsius(fahrenheit):\n",
    "    return (fahrenheit - 32) * 5.0/9.0\n",
    "\n",
    "# Convert the temperature to Celsius\n",
    "df[\"AvgTemperature\"] = fahrenheit_to_celsius(df[\"AvgTemperature\"])\n",
    "\n",
    "df.head()"
   ],
   "id": "7f8e713248e996f7",
   "outputs": [
    {
     "data": {
      "text/plain": [
       "   Region  Country State     City  Year  AvgTemperature       Date\n",
       "0  Africa  Algeria   NaN  Algiers  1995       17.888889 1995-01-01\n",
       "1  Africa  Algeria   NaN  Algiers  1995        9.666667 1995-01-02\n",
       "2  Africa  Algeria   NaN  Algiers  1995        9.333333 1995-01-03\n",
       "3  Africa  Algeria   NaN  Algiers  1995        8.000000 1995-01-04\n",
       "4  Africa  Algeria   NaN  Algiers  1995        8.833333 1995-01-05"
      ],
      "text/html": [
       "<div>\n",
       "<style scoped>\n",
       "    .dataframe tbody tr th:only-of-type {\n",
       "        vertical-align: middle;\n",
       "    }\n",
       "\n",
       "    .dataframe tbody tr th {\n",
       "        vertical-align: top;\n",
       "    }\n",
       "\n",
       "    .dataframe thead th {\n",
       "        text-align: right;\n",
       "    }\n",
       "</style>\n",
       "<table border=\"1\" class=\"dataframe\">\n",
       "  <thead>\n",
       "    <tr style=\"text-align: right;\">\n",
       "      <th></th>\n",
       "      <th>Region</th>\n",
       "      <th>Country</th>\n",
       "      <th>State</th>\n",
       "      <th>City</th>\n",
       "      <th>Year</th>\n",
       "      <th>AvgTemperature</th>\n",
       "      <th>Date</th>\n",
       "    </tr>\n",
       "  </thead>\n",
       "  <tbody>\n",
       "    <tr>\n",
       "      <th>0</th>\n",
       "      <td>Africa</td>\n",
       "      <td>Algeria</td>\n",
       "      <td>NaN</td>\n",
       "      <td>Algiers</td>\n",
       "      <td>1995</td>\n",
       "      <td>17.888889</td>\n",
       "      <td>1995-01-01</td>\n",
       "    </tr>\n",
       "    <tr>\n",
       "      <th>1</th>\n",
       "      <td>Africa</td>\n",
       "      <td>Algeria</td>\n",
       "      <td>NaN</td>\n",
       "      <td>Algiers</td>\n",
       "      <td>1995</td>\n",
       "      <td>9.666667</td>\n",
       "      <td>1995-01-02</td>\n",
       "    </tr>\n",
       "    <tr>\n",
       "      <th>2</th>\n",
       "      <td>Africa</td>\n",
       "      <td>Algeria</td>\n",
       "      <td>NaN</td>\n",
       "      <td>Algiers</td>\n",
       "      <td>1995</td>\n",
       "      <td>9.333333</td>\n",
       "      <td>1995-01-03</td>\n",
       "    </tr>\n",
       "    <tr>\n",
       "      <th>3</th>\n",
       "      <td>Africa</td>\n",
       "      <td>Algeria</td>\n",
       "      <td>NaN</td>\n",
       "      <td>Algiers</td>\n",
       "      <td>1995</td>\n",
       "      <td>8.000000</td>\n",
       "      <td>1995-01-04</td>\n",
       "    </tr>\n",
       "    <tr>\n",
       "      <th>4</th>\n",
       "      <td>Africa</td>\n",
       "      <td>Algeria</td>\n",
       "      <td>NaN</td>\n",
       "      <td>Algiers</td>\n",
       "      <td>1995</td>\n",
       "      <td>8.833333</td>\n",
       "      <td>1995-01-05</td>\n",
       "    </tr>\n",
       "  </tbody>\n",
       "</table>\n",
       "</div>"
      ]
     },
     "execution_count": 73,
     "metadata": {},
     "output_type": "execute_result"
    }
   ],
   "execution_count": 73
  },
  {
   "metadata": {},
   "cell_type": "markdown",
   "source": "### Outlier detection and treatment",
   "id": "c23224d2e9db454d"
  },
  {
   "metadata": {
    "ExecuteTime": {
     "end_time": "2025-04-20T19:53:43.136164Z",
     "start_time": "2025-04-20T19:53:43.134483Z"
    }
   },
   "cell_type": "code",
   "source": "# TODO",
   "id": "206ad13bb207c33a",
   "outputs": [],
   "execution_count": 74
  },
  {
   "metadata": {},
   "cell_type": "markdown",
   "source": [
    "### Normalization/standardization of features\n",
    "\n",
    "In order to improve the performance of the model, we will normalize the temperature to the range [-1, 1]."
   ],
   "id": "d22347b9d5b395a9"
  },
  {
   "metadata": {
    "ExecuteTime": {
     "end_time": "2025-04-20T19:53:43.206296Z",
     "start_time": "2025-04-20T19:53:43.188585Z"
    }
   },
   "cell_type": "code",
   "source": [
    "# Normalize the temperature\n",
    "from sklearn.preprocessing import MinMaxScaler\n",
    "\n",
    "scaler = MinMaxScaler(feature_range=(-1, 1))\n",
    "df[\"AvgTemperature\"] = scaler.fit_transform(df[[\"AvgTemperature\"]])\n",
    "df.head()"
   ],
   "id": "74bc6ba86d250682",
   "outputs": [
    {
     "data": {
      "text/plain": [
       "   Region  Country State     City  Year  AvgTemperature       Date\n",
       "0  Africa  Algeria   NaN  Algiers  1995         0.42750 1995-01-01\n",
       "1  Africa  Algeria   NaN  Algiers  1995         0.24250 1995-01-02\n",
       "2  Africa  Algeria   NaN  Algiers  1995         0.23500 1995-01-03\n",
       "3  Africa  Algeria   NaN  Algiers  1995         0.20500 1995-01-04\n",
       "4  Africa  Algeria   NaN  Algiers  1995         0.22375 1995-01-05"
      ],
      "text/html": [
       "<div>\n",
       "<style scoped>\n",
       "    .dataframe tbody tr th:only-of-type {\n",
       "        vertical-align: middle;\n",
       "    }\n",
       "\n",
       "    .dataframe tbody tr th {\n",
       "        vertical-align: top;\n",
       "    }\n",
       "\n",
       "    .dataframe thead th {\n",
       "        text-align: right;\n",
       "    }\n",
       "</style>\n",
       "<table border=\"1\" class=\"dataframe\">\n",
       "  <thead>\n",
       "    <tr style=\"text-align: right;\">\n",
       "      <th></th>\n",
       "      <th>Region</th>\n",
       "      <th>Country</th>\n",
       "      <th>State</th>\n",
       "      <th>City</th>\n",
       "      <th>Year</th>\n",
       "      <th>AvgTemperature</th>\n",
       "      <th>Date</th>\n",
       "    </tr>\n",
       "  </thead>\n",
       "  <tbody>\n",
       "    <tr>\n",
       "      <th>0</th>\n",
       "      <td>Africa</td>\n",
       "      <td>Algeria</td>\n",
       "      <td>NaN</td>\n",
       "      <td>Algiers</td>\n",
       "      <td>1995</td>\n",
       "      <td>0.42750</td>\n",
       "      <td>1995-01-01</td>\n",
       "    </tr>\n",
       "    <tr>\n",
       "      <th>1</th>\n",
       "      <td>Africa</td>\n",
       "      <td>Algeria</td>\n",
       "      <td>NaN</td>\n",
       "      <td>Algiers</td>\n",
       "      <td>1995</td>\n",
       "      <td>0.24250</td>\n",
       "      <td>1995-01-02</td>\n",
       "    </tr>\n",
       "    <tr>\n",
       "      <th>2</th>\n",
       "      <td>Africa</td>\n",
       "      <td>Algeria</td>\n",
       "      <td>NaN</td>\n",
       "      <td>Algiers</td>\n",
       "      <td>1995</td>\n",
       "      <td>0.23500</td>\n",
       "      <td>1995-01-03</td>\n",
       "    </tr>\n",
       "    <tr>\n",
       "      <th>3</th>\n",
       "      <td>Africa</td>\n",
       "      <td>Algeria</td>\n",
       "      <td>NaN</td>\n",
       "      <td>Algiers</td>\n",
       "      <td>1995</td>\n",
       "      <td>0.20500</td>\n",
       "      <td>1995-01-04</td>\n",
       "    </tr>\n",
       "    <tr>\n",
       "      <th>4</th>\n",
       "      <td>Africa</td>\n",
       "      <td>Algeria</td>\n",
       "      <td>NaN</td>\n",
       "      <td>Algiers</td>\n",
       "      <td>1995</td>\n",
       "      <td>0.22375</td>\n",
       "      <td>1995-01-05</td>\n",
       "    </tr>\n",
       "  </tbody>\n",
       "</table>\n",
       "</div>"
      ]
     },
     "execution_count": 75,
     "metadata": {},
     "output_type": "execute_result"
    }
   ],
   "execution_count": 75
  },
  {
   "metadata": {},
   "cell_type": "markdown",
   "source": "# Feature Engineering",
   "id": "b78a3b0597f66086"
  }
 ],
 "metadata": {
  "kernelspec": {
   "display_name": "Python 3",
   "language": "python",
   "name": "python3"
  },
  "language_info": {
   "codemirror_mode": {
    "name": "ipython",
    "version": 2
   },
   "file_extension": ".py",
   "mimetype": "text/x-python",
   "name": "python",
   "nbconvert_exporter": "python",
   "pygments_lexer": "ipython2",
   "version": "2.7.6"
  }
 },
 "nbformat": 4,
 "nbformat_minor": 5
}
